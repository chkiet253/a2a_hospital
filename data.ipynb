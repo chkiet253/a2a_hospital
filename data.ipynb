{
 "cells": [
  {
   "cell_type": "code",
   "execution_count": 1,
   "id": "3c7f565a",
   "metadata": {},
   "outputs": [],
   "source": [
    "import pandas as pd\n",
    "\n",
    "# Đọc file CSV với encoding phù hợp\n",
    "df = pd.read_csv(\"ViMedical_Disease.csv\", encoding=\"utf-8-sig\")\n",
    "\n",
    "# Xuất ra JSON, giữ nguyên tiếng Việt\n",
    "df.to_json(\"ViMedical_Disease.json\", orient=\"records\", force_ascii=False, indent=4)"
   ]
  },
  {
   "cell_type": "code",
   "execution_count": 2,
   "id": "5ef4f596",
   "metadata": {},
   "outputs": [
    {
     "name": "stdout",
     "output_type": "stream",
     "text": [
      "                      Disease  \\\n",
      "0                   Alzheimer   \n",
      "1                   Alzheimer   \n",
      "2                   Alzheimer   \n",
      "3                   Alzheimer   \n",
      "4                   Alzheimer   \n",
      "...                       ...   \n",
      "12055  Ốm Nghén Khi Mang Thai   \n",
      "12056  Ốm Nghén Khi Mang Thai   \n",
      "12057  Ốm Nghén Khi Mang Thai   \n",
      "12058  Ốm Nghén Khi Mang Thai   \n",
      "12059  Ốm Nghén Khi Mang Thai   \n",
      "\n",
      "                                                Question  \n",
      "0      Tôi hiện đang có các triệu chứng như hay quên ...  \n",
      "1      Tôi đang cảm thấy khó khăn khi tham gia cuộc h...  \n",
      "2      Tôi hay quên nghĩa của từ và không thể theo dõ...  \n",
      "3      Tôi hiện đang có các triệu chứng như thay đổi ...  \n",
      "4      Tôi đang cảm thấy chán nản và muốn từ bỏ các s...  \n",
      "...                                                  ...  \n",
      "12055  Tôi mang thai và cảm thấy buồn nôn, nôn khi đi...  \n",
      "12056  Tôi mang thai và thấy khó tập trung, hay quên....  \n",
      "12057  Tôi mang thai và cảm thấy khó chịu, bồn chồn, ...  \n",
      "12058  Tôi mang thai và thấy thay đổi khẩu vị, không ...  \n",
      "12059  Tôi mang thai và thấy buồn nôn, nôn sau khi uố...  \n",
      "\n",
      "[12060 rows x 2 columns]\n"
     ]
    }
   ],
   "source": [
    "print(df)"
   ]
  },
  {
   "cell_type": "code",
   "execution_count": 1,
   "id": "508e243f",
   "metadata": {},
   "outputs": [
    {
     "ename": "ModuleNotFoundError",
     "evalue": "No module named 'sentence_transformers'",
     "output_type": "error",
     "traceback": [
      "\u001b[1;31m---------------------------------------------------------------------------\u001b[0m",
      "\u001b[1;31mModuleNotFoundError\u001b[0m                       Traceback (most recent call last)",
      "Cell \u001b[1;32mIn[1], line 1\u001b[0m\n\u001b[1;32m----> 1\u001b[0m \u001b[38;5;28;01mfrom\u001b[39;00m \u001b[38;5;21;01msentence_transformers\u001b[39;00m \u001b[38;5;28;01mimport\u001b[39;00m CrossEncoder\n\u001b[0;32m      2\u001b[0m \u001b[38;5;28;01mimport\u001b[39;00m \u001b[38;5;21;01mtorch\u001b[39;00m\n\u001b[0;32m      4\u001b[0m \u001b[38;5;28;01mtry\u001b[39;00m:\n",
      "\u001b[1;31mModuleNotFoundError\u001b[0m: No module named 'sentence_transformers'"
     ]
    }
   ],
   "source": [
    "from sentence_transformers import CrossEncoder\n",
    "import torch\n",
    "\n",
    "try:\n",
    "    model = CrossEncoder(\"namdp-ptit/ViRanker\", device=\"cuda\" if torch.cuda.is_available() else \"cpu\")\n",
    "    print(\"✅ ViRanker model loaded thành công\")\n",
    "except Exception as e:\n",
    "    print(\"❌ Lỗi load ViRanker:\", e)"
   ]
  }
 ],
 "metadata": {
  "kernelspec": {
   "display_name": "Python 3",
   "language": "python",
   "name": "python3"
  },
  "language_info": {
   "codemirror_mode": {
    "name": "ipython",
    "version": 3
   },
   "file_extension": ".py",
   "mimetype": "text/x-python",
   "name": "python",
   "nbconvert_exporter": "python",
   "pygments_lexer": "ipython3",
   "version": "3.10.10"
  }
 },
 "nbformat": 4,
 "nbformat_minor": 5
}
